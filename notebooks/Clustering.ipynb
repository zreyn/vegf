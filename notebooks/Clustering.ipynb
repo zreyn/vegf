{
 "cells": [
  {
   "cell_type": "code",
   "execution_count": 31,
   "metadata": {
    "collapsed": true
   },
   "outputs": [],
   "source": [
    "import os\n",
    "import re\n",
    "from time import time\n",
    "import numpy as np\n",
    "import pandas as pd\n",
    "import cPickle as pickle\n",
    "\n",
    "import openslide\n",
    "from PIL import Image\n",
    "\n",
    "from boto.s3.connection import S3Connection\n",
    "from boto.s3.key import Key\n",
    "\n",
    "from sklearn.decomposition import PCA\n",
    "from sklearn.cluster import KMeans\n",
    "from sklearn import metrics"
   ]
  },
  {
   "cell_type": "code",
   "execution_count": 7,
   "metadata": {
    "collapsed": true
   },
   "outputs": [],
   "source": [
    "conn = S3Connection()\n",
    "bucket = conn.get_bucket('vegf')"
   ]
  },
  {
   "cell_type": "code",
   "execution_count": 8,
   "metadata": {
    "collapsed": true
   },
   "outputs": [],
   "source": [
    "slide_dfs = [\n",
    "      #'df_70229.pkl'\n",
    "      #,'df_70230.pkl'\n",
    "      #,'df_70231.pkl'\n",
    "      'df_70232.pkl' \n",
    "      #,'df_70233.pkl'\n",
    "      #,'df_70234.pkl'\n",
    "      #,'df_70235.pkl'\n",
    "      #,'df_70236.pkl'\n",
    "      #,'df_70237.pkl'\n",
    "    ]"
   ]
  },
  {
   "cell_type": "code",
   "execution_count": 41,
   "metadata": {
    "collapsed": true
   },
   "outputs": [],
   "source": [
    "def bench_k_means(estimator, name, data):\n",
    "    '''\n",
    "    Source: http://scikit-learn.org/stable/auto_examples/cluster/plot_kmeans_digits.html\n",
    "    '''\n",
    "    t0 = time()\n",
    "    estimator.fit(data)\n",
    "    print('% 9s   %.2fs    %i   %.3f'\n",
    "          % (name, (time() - t0), estimator.inertia_,\n",
    "             metrics.silhouette_score(data, estimator.labels_,\n",
    "                                      metric='euclidean',\n",
    "                                      sample_size=1000)))"
   ]
  },
  {
   "cell_type": "code",
   "execution_count": 46,
   "metadata": {
    "collapsed": false
   },
   "outputs": [
    {
     "name": "stdout",
     "output_type": "stream",
     "text": [
      "PCA-based n=2   0.41s    555418   0.234\n",
      "PCA-based n=3   0.85s    512880   0.151\n",
      "PCA-based n=4   1.12s    489033   0.143\n",
      "PCA-based n=5   0.79s    471311   0.132\n",
      "PCA-based n=6   1.05s    457690   0.106\n",
      "PCA-based n=7   0.81s    436214   0.133\n",
      "PCA-based n=8   1.25s    428800   0.115\n",
      "PCA-based n=9   1.60s    422485   0.125\n",
      "PCA-based n=10   1.24s    421781   0.119\n"
     ]
    }
   ],
   "source": [
    "# get the tile metadata dataframe from S3 and load it with pickle\n",
    "for slide_df in slide_dfs:\n",
    "    \n",
    "    #tile_df_filename = os.path.join(os.path.dirname(__file__), '../data/'+slide_df)\n",
    "    tile_df_filename = '../data/'+slide_df\n",
    "    if not os.path.exists(tile_df_filename):\n",
    "        key = bucket.get_key(slide_df)\n",
    "        key.get_contents_to_filename(tile_df_filename)\n",
    "        \n",
    "    with open(tile_df_filename, 'r') as f:\n",
    "        df = pickle.load(f)\n",
    "        \n",
    "    X = df[range(2048)]\n",
    "    \n",
    "    for n in xrange(2,11):\n",
    "        n_components = n\n",
    "        n_clusters = n\n",
    "\n",
    "        pca = PCA(n_components=n_components).fit(X)\n",
    "        bench_k_means(KMeans(init=pca.components_, n_clusters=n_clusters, n_init=1), name=\"PCA-based n=\"+str(n_clusters), data=X)"
   ]
  },
  {
   "cell_type": "code",
   "execution_count": 53,
   "metadata": {
    "collapsed": false
   },
   "outputs": [],
   "source": [
    "def cluster(df, n_clusters=2):\n",
    "    X = df[range(2048)]\n",
    "    pca = PCA(n_components=2).fit(X)\n",
    "    kmeans = KMeans(init=pca.components_, n_clusters=2, n_init=1)\n",
    "    kmeans.fit(X)\n",
    "    df['cluster'] = kmeans.labels_\n",
    "    return df"
   ]
  },
  {
   "cell_type": "code",
   "execution_count": 54,
   "metadata": {
    "collapsed": false
   },
   "outputs": [],
   "source": [
    "# get the tile metadata dataframe from S3 and load it with pickle\n",
    "for slide_df in slide_dfs:\n",
    "    \n",
    "    #tile_df_filename = os.path.join(os.path.dirname(__file__), '../data/'+slide_df)\n",
    "    tile_df_filename = '../data/'+slide_df\n",
    "    if not os.path.exists(tile_df_filename):\n",
    "        key = bucket.get_key(slide_df)\n",
    "        key.get_contents_to_filename(tile_df_filename)\n",
    "        \n",
    "    with open(tile_df_filename, 'r') as f:\n",
    "        df = pickle.load(f)\n",
    "        \n",
    "    df = cluster(df, n_clusters=2)"
   ]
  },
  {
   "cell_type": "code",
   "execution_count": 55,
   "metadata": {
    "collapsed": false
   },
   "outputs": [
    {
     "data": {
      "text/html": [
       "<div>\n",
       "<table border=\"1\" class=\"dataframe\">\n",
       "  <thead>\n",
       "    <tr style=\"text-align: right;\">\n",
       "      <th></th>\n",
       "      <th>key</th>\n",
       "      <th>slide</th>\n",
       "      <th>width</th>\n",
       "      <th>height</th>\n",
       "      <th>x</th>\n",
       "      <th>y</th>\n",
       "      <th>0</th>\n",
       "      <th>1</th>\n",
       "      <th>2</th>\n",
       "      <th>3</th>\n",
       "      <th>...</th>\n",
       "      <th>2039</th>\n",
       "      <th>2040</th>\n",
       "      <th>2041</th>\n",
       "      <th>2042</th>\n",
       "      <th>2043</th>\n",
       "      <th>2044</th>\n",
       "      <th>2045</th>\n",
       "      <th>2046</th>\n",
       "      <th>2047</th>\n",
       "      <th>cluster</th>\n",
       "    </tr>\n",
       "  </thead>\n",
       "  <tbody>\n",
       "    <tr>\n",
       "      <th>633045</th>\n",
       "      <td>tiles/slide_70232_000167.tiff</td>\n",
       "      <td>70232</td>\n",
       "      <td>64</td>\n",
       "      <td>64</td>\n",
       "      <td>0.0</td>\n",
       "      <td>10688.0</td>\n",
       "      <td>0.490760</td>\n",
       "      <td>0.000000</td>\n",
       "      <td>0.150144</td>\n",
       "      <td>0.000000</td>\n",
       "      <td>...</td>\n",
       "      <td>0.002732</td>\n",
       "      <td>0.013804</td>\n",
       "      <td>0.151615</td>\n",
       "      <td>0.028847</td>\n",
       "      <td>0.020535</td>\n",
       "      <td>0.265548</td>\n",
       "      <td>0.060923</td>\n",
       "      <td>0.177500</td>\n",
       "      <td>0.585632</td>\n",
       "      <td>0</td>\n",
       "    </tr>\n",
       "    <tr>\n",
       "      <th>633046</th>\n",
       "      <td>tiles/slide_70232_000335.tiff</td>\n",
       "      <td>70232</td>\n",
       "      <td>64</td>\n",
       "      <td>64</td>\n",
       "      <td>64.0</td>\n",
       "      <td>10688.0</td>\n",
       "      <td>0.495601</td>\n",
       "      <td>0.000000</td>\n",
       "      <td>0.126711</td>\n",
       "      <td>0.000000</td>\n",
       "      <td>...</td>\n",
       "      <td>0.004705</td>\n",
       "      <td>0.025719</td>\n",
       "      <td>0.155366</td>\n",
       "      <td>0.000000</td>\n",
       "      <td>0.051949</td>\n",
       "      <td>0.208735</td>\n",
       "      <td>0.038782</td>\n",
       "      <td>0.233924</td>\n",
       "      <td>0.466447</td>\n",
       "      <td>0</td>\n",
       "    </tr>\n",
       "    <tr>\n",
       "      <th>633047</th>\n",
       "      <td>tiles/slide_70232_000498.tiff</td>\n",
       "      <td>70232</td>\n",
       "      <td>64</td>\n",
       "      <td>64</td>\n",
       "      <td>128.0</td>\n",
       "      <td>10368.0</td>\n",
       "      <td>0.007155</td>\n",
       "      <td>0.034675</td>\n",
       "      <td>0.018455</td>\n",
       "      <td>0.008901</td>\n",
       "      <td>...</td>\n",
       "      <td>0.073302</td>\n",
       "      <td>0.813239</td>\n",
       "      <td>0.865602</td>\n",
       "      <td>0.609654</td>\n",
       "      <td>0.113352</td>\n",
       "      <td>0.265793</td>\n",
       "      <td>0.375284</td>\n",
       "      <td>0.240248</td>\n",
       "      <td>0.529064</td>\n",
       "      <td>1</td>\n",
       "    </tr>\n",
       "    <tr>\n",
       "      <th>633048</th>\n",
       "      <td>tiles/slide_70232_000503.tiff</td>\n",
       "      <td>70232</td>\n",
       "      <td>64</td>\n",
       "      <td>64</td>\n",
       "      <td>128.0</td>\n",
       "      <td>10688.0</td>\n",
       "      <td>0.345169</td>\n",
       "      <td>0.000000</td>\n",
       "      <td>0.132178</td>\n",
       "      <td>0.000000</td>\n",
       "      <td>...</td>\n",
       "      <td>0.000000</td>\n",
       "      <td>0.064504</td>\n",
       "      <td>0.147059</td>\n",
       "      <td>0.006262</td>\n",
       "      <td>0.036226</td>\n",
       "      <td>0.255818</td>\n",
       "      <td>0.044558</td>\n",
       "      <td>0.187445</td>\n",
       "      <td>0.516848</td>\n",
       "      <td>0</td>\n",
       "    </tr>\n",
       "    <tr>\n",
       "      <th>633049</th>\n",
       "      <td>tiles/slide_70232_000671.tiff</td>\n",
       "      <td>70232</td>\n",
       "      <td>64</td>\n",
       "      <td>64</td>\n",
       "      <td>192.0</td>\n",
       "      <td>10688.0</td>\n",
       "      <td>0.467209</td>\n",
       "      <td>0.000000</td>\n",
       "      <td>0.143225</td>\n",
       "      <td>0.000000</td>\n",
       "      <td>...</td>\n",
       "      <td>0.023049</td>\n",
       "      <td>0.039450</td>\n",
       "      <td>0.107765</td>\n",
       "      <td>0.015839</td>\n",
       "      <td>0.035678</td>\n",
       "      <td>0.218351</td>\n",
       "      <td>0.056889</td>\n",
       "      <td>0.171210</td>\n",
       "      <td>0.489995</td>\n",
       "      <td>0</td>\n",
       "    </tr>\n",
       "  </tbody>\n",
       "</table>\n",
       "<p>5 rows × 2055 columns</p>\n",
       "</div>"
      ],
      "text/plain": [
       "                                  key  slide  width  height      x        y  \\\n",
       "633045  tiles/slide_70232_000167.tiff  70232     64      64    0.0  10688.0   \n",
       "633046  tiles/slide_70232_000335.tiff  70232     64      64   64.0  10688.0   \n",
       "633047  tiles/slide_70232_000498.tiff  70232     64      64  128.0  10368.0   \n",
       "633048  tiles/slide_70232_000503.tiff  70232     64      64  128.0  10688.0   \n",
       "633049  tiles/slide_70232_000671.tiff  70232     64      64  192.0  10688.0   \n",
       "\n",
       "               0         1         2         3   ...         2039      2040  \\\n",
       "633045  0.490760  0.000000  0.150144  0.000000   ...     0.002732  0.013804   \n",
       "633046  0.495601  0.000000  0.126711  0.000000   ...     0.004705  0.025719   \n",
       "633047  0.007155  0.034675  0.018455  0.008901   ...     0.073302  0.813239   \n",
       "633048  0.345169  0.000000  0.132178  0.000000   ...     0.000000  0.064504   \n",
       "633049  0.467209  0.000000  0.143225  0.000000   ...     0.023049  0.039450   \n",
       "\n",
       "            2041      2042      2043      2044      2045      2046      2047  \\\n",
       "633045  0.151615  0.028847  0.020535  0.265548  0.060923  0.177500  0.585632   \n",
       "633046  0.155366  0.000000  0.051949  0.208735  0.038782  0.233924  0.466447   \n",
       "633047  0.865602  0.609654  0.113352  0.265793  0.375284  0.240248  0.529064   \n",
       "633048  0.147059  0.006262  0.036226  0.255818  0.044558  0.187445  0.516848   \n",
       "633049  0.107765  0.015839  0.035678  0.218351  0.056889  0.171210  0.489995   \n",
       "\n",
       "        cluster  \n",
       "633045        0  \n",
       "633046        0  \n",
       "633047        1  \n",
       "633048        0  \n",
       "633049        0  \n",
       "\n",
       "[5 rows x 2055 columns]"
      ]
     },
     "execution_count": 55,
     "metadata": {},
     "output_type": "execute_result"
    }
   ],
   "source": [
    "df.head()"
   ]
  },
  {
   "cell_type": "code",
   "execution_count": 56,
   "metadata": {
    "collapsed": true
   },
   "outputs": [],
   "source": [
    "# Now, figure out how to overlay colors on the original slide.  Each tile gets a color overlay based on which cluster it belonged to.  "
   ]
  },
  {
   "cell_type": "code",
   "execution_count": null,
   "metadata": {
    "collapsed": true
   },
   "outputs": [],
   "source": []
  }
 ],
 "metadata": {
  "anaconda-cloud": {},
  "kernelspec": {
   "display_name": "Python [conda root]",
   "language": "python",
   "name": "conda-root-py"
  },
  "language_info": {
   "codemirror_mode": {
    "name": "ipython",
    "version": 2
   },
   "file_extension": ".py",
   "mimetype": "text/x-python",
   "name": "python",
   "nbconvert_exporter": "python",
   "pygments_lexer": "ipython2",
   "version": "2.7.12"
  }
 },
 "nbformat": 4,
 "nbformat_minor": 1
}
